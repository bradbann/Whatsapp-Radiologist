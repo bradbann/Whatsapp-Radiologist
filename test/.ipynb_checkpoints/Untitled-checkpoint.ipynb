{
 "cells": [
  {
   "cell_type": "code",
   "execution_count": 1,
   "metadata": {},
   "outputs": [
    {
     "name": "stderr",
     "output_type": "stream",
     "text": [
      "/Library/Frameworks/Python.framework/Versions/3.6/lib/python3.6/site-packages/h5py/__init__.py:36: FutureWarning: Conversion of the second argument of issubdtype from `float` to `np.floating` is deprecated. In future, it will be treated as `np.float64 == np.dtype(float).type`.\n",
      "  from ._conv import register_converters as _register_converters\n",
      "Using TensorFlow backend.\n"
     ]
    },
    {
     "name": "stdout",
     "output_type": "stream",
     "text": [
      "importing model\n",
      "done.\n"
     ]
    }
   ],
   "source": [
    "from keras.applications.densenet import DenseNet121, preprocess_input, decode_predictions\n",
    "from PIL import Image\n",
    "import numpy as np\n",
    "\n",
    "print(\"importing model\")\n",
    "model = DenseNet121(weights='../weights.h5', classes=14)\n",
    "print(\"done.\")\n",
    "\n",
    "classes=['Atelectasis','Cardiomegaly','Effusion','Infiltration','Mass','Nodule',\n",
    "'Pneumonia','Pneumothorax','Consolidation','Edema','Emphysema','Fibrosis','Pleural_Thickening','Hernia']"
   ]
  },
  {
   "cell_type": "code",
   "execution_count": 17,
   "metadata": {},
   "outputs": [],
   "source": [
    "def predict(path):\n",
    "    img = Image.open(path).resize((224,224))\n",
    "    x = np.asarray(img.convert(\"RGB\"))\n",
    "#     if len(x.shape) == 2:\n",
    "#         x = np.stack([x]*3,2)\n",
    "#     else:\n",
    "#         pass\n",
    "    x = (x-x.mean())/x.std()\n",
    "    x = np.expand_dims(x, axis=0)\n",
    "    preds = model.predict(x)\n",
    "    np.sort(preds)\n",
    "    print(\"Model's top 3 predicted:\")\n",
    "    top3 = np.argsort(-preds[0])[:3]\n",
    "    return [classes[i] for i in top3]"
   ]
  },
  {
   "cell_type": "code",
   "execution_count": 18,
   "metadata": {},
   "outputs": [
    {
     "name": "stdout",
     "output_type": "stream",
     "text": [
      "[[  0   0   0 ...   0   0   0]\n",
      " [  0   0   0 ...   0   0   0]\n",
      " [150   1   0 ...   0   0   0]\n",
      " ...\n",
      " [  1   0   0 ...   0   0   0]\n",
      " [  1   0   0 ...   0   0   0]\n",
      " [ 98   2   0 ...   0   0   0]]\n",
      "[[[  0   0   0]\n",
      "  [  0   0   0]\n",
      "  [  0   0   0]\n",
      "  ...\n",
      "  [  0   0   0]\n",
      "  [  0   0   0]\n",
      "  [  0   0   0]]\n",
      "\n",
      " [[  0   0   0]\n",
      "  [  0   0   0]\n",
      "  [  0   0   0]\n",
      "  ...\n",
      "  [  0   0   0]\n",
      "  [  0   0   0]\n",
      "  [  0   0   0]]\n",
      "\n",
      " [[150 150 150]\n",
      "  [  1   1   1]\n",
      "  [  0   0   0]\n",
      "  ...\n",
      "  [  0   0   0]\n",
      "  [  0   0   0]\n",
      "  [  0   0   0]]\n",
      "\n",
      " ...\n",
      "\n",
      " [[  1   1   1]\n",
      "  [  0   0   0]\n",
      "  [  0   0   0]\n",
      "  ...\n",
      "  [  0   0   0]\n",
      "  [  0   0   0]\n",
      "  [  0   0   0]]\n",
      "\n",
      " [[  1   1   1]\n",
      "  [  0   0   0]\n",
      "  [  0   0   0]\n",
      "  ...\n",
      "  [  0   0   0]\n",
      "  [  0   0   0]\n",
      "  [  0   0   0]]\n",
      "\n",
      " [[ 98  98  98]\n",
      "  [  2   2   2]\n",
      "  [  0   0   0]\n",
      "  ...\n",
      "  [  0   0   0]\n",
      "  [  0   0   0]\n",
      "  [  0   0   0]]]\n",
      "[[[-1.55565891 -1.55565891 -1.55565891]\n",
      "  [-1.55565891 -1.55565891 -1.55565891]\n",
      "  [-1.55565891 -1.55565891 -1.55565891]\n",
      "  ...\n",
      "  [-1.55565891 -1.55565891 -1.55565891]\n",
      "  [-1.55565891 -1.55565891 -1.55565891]\n",
      "  [-1.55565891 -1.55565891 -1.55565891]]\n",
      "\n",
      " [[-1.55565891 -1.55565891 -1.55565891]\n",
      "  [-1.55565891 -1.55565891 -1.55565891]\n",
      "  [-1.55565891 -1.55565891 -1.55565891]\n",
      "  ...\n",
      "  [-1.55565891 -1.55565891 -1.55565891]\n",
      "  [-1.55565891 -1.55565891 -1.55565891]\n",
      "  [-1.55565891 -1.55565891 -1.55565891]]\n",
      "\n",
      " [[ 0.51868967  0.51868967  0.51868967]\n",
      "  [-1.54182992 -1.54182992 -1.54182992]\n",
      "  [-1.55565891 -1.55565891 -1.55565891]\n",
      "  ...\n",
      "  [-1.55565891 -1.55565891 -1.55565891]\n",
      "  [-1.55565891 -1.55565891 -1.55565891]\n",
      "  [-1.55565891 -1.55565891 -1.55565891]]\n",
      "\n",
      " ...\n",
      "\n",
      " [[-1.54182992 -1.54182992 -1.54182992]\n",
      "  [-1.55565891 -1.55565891 -1.55565891]\n",
      "  [-1.55565891 -1.55565891 -1.55565891]\n",
      "  ...\n",
      "  [-1.55565891 -1.55565891 -1.55565891]\n",
      "  [-1.55565891 -1.55565891 -1.55565891]\n",
      "  [-1.55565891 -1.55565891 -1.55565891]]\n",
      "\n",
      " [[-1.54182992 -1.54182992 -1.54182992]\n",
      "  [-1.55565891 -1.55565891 -1.55565891]\n",
      "  [-1.55565891 -1.55565891 -1.55565891]\n",
      "  ...\n",
      "  [-1.55565891 -1.55565891 -1.55565891]\n",
      "  [-1.55565891 -1.55565891 -1.55565891]\n",
      "  [-1.55565891 -1.55565891 -1.55565891]]\n",
      "\n",
      " [[-0.20041784 -0.20041784 -0.20041784]\n",
      "  [-1.52800093 -1.52800093 -1.52800093]\n",
      "  [-1.55565891 -1.55565891 -1.55565891]\n",
      "  ...\n",
      "  [-1.55565891 -1.55565891 -1.55565891]\n",
      "  [-1.55565891 -1.55565891 -1.55565891]\n",
      "  [-1.55565891 -1.55565891 -1.55565891]]]\n",
      "Model's top 3 predicted:\n"
     ]
    },
    {
     "data": {
      "text/plain": [
       "['Infiltration', 'Atelectasis', 'Effusion']"
      ]
     },
     "execution_count": 18,
     "metadata": {},
     "output_type": "execute_result"
    }
   ],
   "source": [
    "path = '../../xray.jpg'\n",
    "predict(path)"
   ]
  },
  {
   "cell_type": "code",
   "execution_count": 14,
   "metadata": {},
   "outputs": [],
   "source": [
    "img = Image.open(path).resize((224,224))\n",
    "img.show()"
   ]
  },
  {
   "cell_type": "code",
   "execution_count": null,
   "metadata": {},
   "outputs": [],
   "source": []
  }
 ],
 "metadata": {
  "kernelspec": {
   "display_name": "Python 3",
   "language": "python",
   "name": "python3"
  },
  "language_info": {
   "codemirror_mode": {
    "name": "ipython",
    "version": 3
   },
   "file_extension": ".py",
   "mimetype": "text/x-python",
   "name": "python",
   "nbconvert_exporter": "python",
   "pygments_lexer": "ipython3",
   "version": "3.6.5"
  }
 },
 "nbformat": 4,
 "nbformat_minor": 2
}
